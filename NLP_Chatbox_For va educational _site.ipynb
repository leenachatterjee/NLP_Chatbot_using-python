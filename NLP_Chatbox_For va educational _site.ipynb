{
 "cells": [
  {
   "cell_type": "code",
   "execution_count": 19,
   "id": "9329c353",
   "metadata": {},
   "outputs": [],
   "source": [
    "from nltk.chat.util import  Chat , reflections"
   ]
  },
  {
   "cell_type": "code",
   "execution_count": 20,
   "id": "ec3a79d1",
   "metadata": {},
   "outputs": [
    {
     "data": {
      "text/plain": [
       "{'i am': 'you are',\n",
       " 'i was': 'you were',\n",
       " 'i': 'you',\n",
       " \"i'm\": 'you are',\n",
       " \"i'd\": 'you would',\n",
       " \"i've\": 'you have',\n",
       " \"i'll\": 'you will',\n",
       " 'my': 'your',\n",
       " 'you are': 'I am',\n",
       " 'you were': 'I was',\n",
       " \"you've\": 'I have',\n",
       " \"you'll\": 'I will',\n",
       " 'your': 'my',\n",
       " 'yours': 'mine',\n",
       " 'you': 'me',\n",
       " 'me': 'you'}"
      ]
     },
     "execution_count": 20,
     "metadata": {},
     "output_type": "execute_result"
    }
   ],
   "source": [
    "reflections"
   ]
  },
  {
   "cell_type": "code",
   "execution_count": 21,
   "id": "684f7208",
   "metadata": {},
   "outputs": [
    {
     "data": {
      "text/plain": [
       "nltk.chat.util.Chat"
      ]
     },
     "execution_count": 21,
     "metadata": {},
     "output_type": "execute_result"
    }
   ],
   "source": [
    "Chat"
   ]
  },
  {
   "cell_type": "code",
   "execution_count": 22,
   "id": "c8adb243",
   "metadata": {},
   "outputs": [],
   "source": [
    "pairs=[\n",
    "       [\n",
    "           r\"(.*)Hi(.*)\",\n",
    "           [\"Welcome to Data world ,Please leave yourcontact details one of our team member contact you soon\",]\n",
    "       ],\n",
    "\n",
    "        [\n",
    "            r\"(.*)help(.*)\",\n",
    "            [\" I can help you \",]\n",
    "        ],\n",
    "\n",
    "         [\n",
    "             \n",
    "             r\"(.*)\",\n",
    "             [\"We did not understand your concen leave your contact details \"]\n",
    "         ],\n",
    "        ]\n",
    "\n"
   ]
  },
  {
   "cell_type": "code",
   "execution_count": 23,
   "id": "a8d2124f",
   "metadata": {},
   "outputs": [
    {
     "name": "stdout",
     "output_type": "stream",
     "text": [
      "Welcome to our site/ please type hi to start a conversion \n",
      " quit to leave the conversion \n"
     ]
    }
   ],
   "source": [
    "print(\"Welcome to our site/ please type hi to start a conversion \\n quit to leave the conversion \")\n"
   ]
  },
  {
   "cell_type": "code",
   "execution_count": 24,
   "id": "477e8537",
   "metadata": {},
   "outputs": [],
   "source": [
    "chat=Chat(pairs, reflections)"
   ]
  },
  {
   "cell_type": "code",
   "execution_count": 25,
   "id": "c9e865ca",
   "metadata": {},
   "outputs": [
    {
     "name": "stdout",
     "output_type": "stream",
     "text": [
      ">Help\n",
      " I can help you \n",
      ">Fees\n",
      "We did not understand your concen leave your contact details \n",
      ">quit\n",
      "We did not understand your concen leave your contact details \n"
     ]
    }
   ],
   "source": [
    "chat.converse()"
   ]
  },
  {
   "cell_type": "code",
   "execution_count": null,
   "id": "254103fd",
   "metadata": {},
   "outputs": [],
   "source": []
  }
 ],
 "metadata": {
  "kernelspec": {
   "display_name": "Python 3",
   "language": "python",
   "name": "python3"
  }
 },
 "nbformat": 4,
 "nbformat_minor": 5
}
